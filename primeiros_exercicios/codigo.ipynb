{
 "cells": [
  {
   "cell_type": "code",
   "execution_count": 7,
   "id": "e11aea62",
   "metadata": {},
   "outputs": [
    {
     "name": "stdout",
     "output_type": "stream",
     "text": [
      "Meu código No Jupyter\n"
     ]
    }
   ],
   "source": [
    "print(\"Meu código No Jupyter\")"
   ]
  },
  {
   "cell_type": "code",
   "execution_count": 8,
   "id": "5bd29a81",
   "metadata": {},
   "outputs": [],
   "source": [
    "import pandas as pd\n",
    "import numpy as np\n",
    "from sklearn.linear_model import ElasticNet\n",
    "from sklearn.metrics import mean_squared_error, r2_score\n",
    "import matplotlib.pyplot as plt\n",
    "import os"
   ]
  },
  {
   "cell_type": "code",
   "execution_count": null,
   "id": "050525f9",
   "metadata": {},
   "outputs": [
    {
     "data": {
      "text/plain": [
       "'/home/phmelosilva/dev/2025_1/AprendizadoDeMaquina/exercicios_praticos/6_1_dados_elastic_net_regression.csv'"
      ]
     },
     "execution_count": 12,
     "metadata": {},
     "output_type": "execute_result"
    }
   ],
   "source": [
    "base_path = os.getcwd()  # Diretório atual do notebook\n",
    "file_name = os.path.join(base_path, '6_1_dados_elastic_net_regression.csv')\n",
    "file_name"
   ]
  },
  {
   "cell_type": "code",
   "execution_count": 17,
   "id": "6f5636af",
   "metadata": {},
   "outputs": [
    {
     "name": "stdout",
     "output_type": "stream",
     "text": [
      "Carregando dados do arquivo: /home/phmelosilva/dev/2025_1/AprendizadoDeMaquina/exercicios_praticos/6_1_dados_elastic_net_regression.csv\n",
      "Dados carregados com sucesso.\n",
      "Primeiras 5 linhas dos dados:\n",
      "    Feature_1  Feature_2  Feature_3  Feature_4  Feature_5      Target\n",
      "0    0.975120  -0.677162  -0.012247  -0.897254   0.075805  -80.741514\n",
      "1    0.081874  -0.485364   0.758969  -0.772825  -0.236819  -61.932650\n",
      "2   -1.412304  -0.908024  -0.562288  -1.012831   0.314247 -267.460735\n",
      "3   -0.645120   0.361636   1.356240  -0.072010   1.003533  119.927054\n",
      "4   -0.622700   0.280992  -1.952088  -0.151785   0.588317 -118.392114\n",
      "..        ...        ...        ...        ...        ...         ...\n",
      "95  -1.514847  -0.846794   0.714000   0.473238  -0.072829  -93.362869\n",
      "96  -0.773010   0.097676  -0.401220   0.224092   0.012592  -45.563369\n",
      "97   1.031000   0.611676   0.324084  -0.385082  -0.676922  103.500463\n",
      "98  -0.234587   0.005113  -1.463515   0.296120   0.261055  -57.745023\n",
      "99  -0.471038  -0.506943  -0.822220   0.243687   0.244967 -112.609028\n",
      "\n",
      "[100 rows x 6 columns]\n"
     ]
    },
    {
     "data": {
      "text/html": [
       "<div>\n",
       "<style scoped>\n",
       "    .dataframe tbody tr th:only-of-type {\n",
       "        vertical-align: middle;\n",
       "    }\n",
       "\n",
       "    .dataframe tbody tr th {\n",
       "        vertical-align: top;\n",
       "    }\n",
       "\n",
       "    .dataframe thead th {\n",
       "        text-align: right;\n",
       "    }\n",
       "</style>\n",
       "<table border=\"1\" class=\"dataframe\">\n",
       "  <thead>\n",
       "    <tr style=\"text-align: right;\">\n",
       "      <th></th>\n",
       "      <th>Feature_1</th>\n",
       "      <th>Feature_2</th>\n",
       "      <th>Feature_3</th>\n",
       "      <th>Feature_4</th>\n",
       "      <th>Feature_5</th>\n",
       "      <th>Target</th>\n",
       "    </tr>\n",
       "  </thead>\n",
       "  <tbody>\n",
       "    <tr>\n",
       "      <th>0</th>\n",
       "      <td>0.975120</td>\n",
       "      <td>-0.677162</td>\n",
       "      <td>-0.012247</td>\n",
       "      <td>-0.897254</td>\n",
       "      <td>0.075805</td>\n",
       "      <td>-80.741514</td>\n",
       "    </tr>\n",
       "    <tr>\n",
       "      <th>1</th>\n",
       "      <td>0.081874</td>\n",
       "      <td>-0.485364</td>\n",
       "      <td>0.758969</td>\n",
       "      <td>-0.772825</td>\n",
       "      <td>-0.236819</td>\n",
       "      <td>-61.932650</td>\n",
       "    </tr>\n",
       "    <tr>\n",
       "      <th>2</th>\n",
       "      <td>-1.412304</td>\n",
       "      <td>-0.908024</td>\n",
       "      <td>-0.562288</td>\n",
       "      <td>-1.012831</td>\n",
       "      <td>0.314247</td>\n",
       "      <td>-267.460735</td>\n",
       "    </tr>\n",
       "    <tr>\n",
       "      <th>3</th>\n",
       "      <td>-0.645120</td>\n",
       "      <td>0.361636</td>\n",
       "      <td>1.356240</td>\n",
       "      <td>-0.072010</td>\n",
       "      <td>1.003533</td>\n",
       "      <td>119.927054</td>\n",
       "    </tr>\n",
       "    <tr>\n",
       "      <th>4</th>\n",
       "      <td>-0.622700</td>\n",
       "      <td>0.280992</td>\n",
       "      <td>-1.952088</td>\n",
       "      <td>-0.151785</td>\n",
       "      <td>0.588317</td>\n",
       "      <td>-118.392114</td>\n",
       "    </tr>\n",
       "    <tr>\n",
       "      <th>...</th>\n",
       "      <td>...</td>\n",
       "      <td>...</td>\n",
       "      <td>...</td>\n",
       "      <td>...</td>\n",
       "      <td>...</td>\n",
       "      <td>...</td>\n",
       "    </tr>\n",
       "    <tr>\n",
       "      <th>95</th>\n",
       "      <td>-1.514847</td>\n",
       "      <td>-0.846794</td>\n",
       "      <td>0.714000</td>\n",
       "      <td>0.473238</td>\n",
       "      <td>-0.072829</td>\n",
       "      <td>-93.362869</td>\n",
       "    </tr>\n",
       "    <tr>\n",
       "      <th>96</th>\n",
       "      <td>-0.773010</td>\n",
       "      <td>0.097676</td>\n",
       "      <td>-0.401220</td>\n",
       "      <td>0.224092</td>\n",
       "      <td>0.012592</td>\n",
       "      <td>-45.563369</td>\n",
       "    </tr>\n",
       "    <tr>\n",
       "      <th>97</th>\n",
       "      <td>1.031000</td>\n",
       "      <td>0.611676</td>\n",
       "      <td>0.324084</td>\n",
       "      <td>-0.385082</td>\n",
       "      <td>-0.676922</td>\n",
       "      <td>103.500463</td>\n",
       "    </tr>\n",
       "    <tr>\n",
       "      <th>98</th>\n",
       "      <td>-0.234587</td>\n",
       "      <td>0.005113</td>\n",
       "      <td>-1.463515</td>\n",
       "      <td>0.296120</td>\n",
       "      <td>0.261055</td>\n",
       "      <td>-57.745023</td>\n",
       "    </tr>\n",
       "    <tr>\n",
       "      <th>99</th>\n",
       "      <td>-0.471038</td>\n",
       "      <td>-0.506943</td>\n",
       "      <td>-0.822220</td>\n",
       "      <td>0.243687</td>\n",
       "      <td>0.244967</td>\n",
       "      <td>-112.609028</td>\n",
       "    </tr>\n",
       "  </tbody>\n",
       "</table>\n",
       "<p>100 rows × 6 columns</p>\n",
       "</div>"
      ],
      "text/plain": [
       "    Feature_1  Feature_2  Feature_3  Feature_4  Feature_5      Target\n",
       "0    0.975120  -0.677162  -0.012247  -0.897254   0.075805  -80.741514\n",
       "1    0.081874  -0.485364   0.758969  -0.772825  -0.236819  -61.932650\n",
       "2   -1.412304  -0.908024  -0.562288  -1.012831   0.314247 -267.460735\n",
       "3   -0.645120   0.361636   1.356240  -0.072010   1.003533  119.927054\n",
       "4   -0.622700   0.280992  -1.952088  -0.151785   0.588317 -118.392114\n",
       "..        ...        ...        ...        ...        ...         ...\n",
       "95  -1.514847  -0.846794   0.714000   0.473238  -0.072829  -93.362869\n",
       "96  -0.773010   0.097676  -0.401220   0.224092   0.012592  -45.563369\n",
       "97   1.031000   0.611676   0.324084  -0.385082  -0.676922  103.500463\n",
       "98  -0.234587   0.005113  -1.463515   0.296120   0.261055  -57.745023\n",
       "99  -0.471038  -0.506943  -0.822220   0.243687   0.244967 -112.609028\n",
       "\n",
       "[100 rows x 6 columns]"
      ]
     },
     "execution_count": 17,
     "metadata": {},
     "output_type": "execute_result"
    }
   ],
   "source": [
    "print(f\"Carregando dados do arquivo: {file_name}\")\n",
    "data = pd.read_csv(file_name)\n",
    "print(\"Dados carregados com sucesso.\")\n",
    "print(\"Primeiras 5 linhas dos dados:\")\n",
    "print(data)\n",
    "\n",
    "# Separar features (X) e variável alvo (y)\n",
    "X = data.iloc[:, :-1]\n",
    "y = data.iloc[:, -1]\n",
    "feature_names = X.columns.tolist()\n",
    "data"
   ]
  },
  {
   "cell_type": "markdown",
   "id": "bdd5a021",
   "metadata": {},
   "source": [
    "# Testando\n",
    "Aqui tem uma documentação"
   ]
  }
 ],
 "metadata": {
  "kernelspec": {
   "display_name": "Python 3",
   "language": "python",
   "name": "python3"
  },
  "language_info": {
   "codemirror_mode": {
    "name": "ipython",
    "version": 3
   },
   "file_extension": ".py",
   "mimetype": "text/x-python",
   "name": "python",
   "nbconvert_exporter": "python",
   "pygments_lexer": "ipython3",
   "version": "3.10.12"
  }
 },
 "nbformat": 4,
 "nbformat_minor": 5
}
